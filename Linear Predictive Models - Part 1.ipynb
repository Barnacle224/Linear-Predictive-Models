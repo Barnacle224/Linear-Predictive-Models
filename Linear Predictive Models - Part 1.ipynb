{
 "cells": [
  {
   "cell_type": "code",
   "execution_count": 1,
   "id": "0535cfd5",
   "metadata": {},
   "outputs": [],
   "source": [
    "import os\n",
    "import pandas as pd\n",
    "import numpy as np\n",
    "import seaborn as sns\n",
    "import matplotlib.pyplot as plt\n",
    "\n",
    "from pandas_profiling import ProfileReport\n",
    "\n",
    "import warnings\n",
    "\n",
    "warnings.filterwarnings(\"ignore\")"
   ]
  },
  {
   "cell_type": "code",
   "execution_count": 2,
   "id": "bbd50f16",
   "metadata": {},
   "outputs": [
    {
     "data": {
      "text/html": [
       "<div>\n",
       "<style scoped>\n",
       "    .dataframe tbody tr th:only-of-type {\n",
       "        vertical-align: middle;\n",
       "    }\n",
       "\n",
       "    .dataframe tbody tr th {\n",
       "        vertical-align: top;\n",
       "    }\n",
       "\n",
       "    .dataframe thead th {\n",
       "        text-align: right;\n",
       "    }\n",
       "</style>\n",
       "<table border=\"1\" class=\"dataframe\">\n",
       "  <thead>\n",
       "    <tr style=\"text-align: right;\">\n",
       "      <th></th>\n",
       "      <th>mileage</th>\n",
       "      <th>make</th>\n",
       "      <th>model</th>\n",
       "      <th>fuel</th>\n",
       "      <th>gear</th>\n",
       "      <th>offerType</th>\n",
       "      <th>price</th>\n",
       "      <th>hp</th>\n",
       "      <th>year</th>\n",
       "    </tr>\n",
       "  </thead>\n",
       "  <tbody>\n",
       "    <tr>\n",
       "      <th>0</th>\n",
       "      <td>235000</td>\n",
       "      <td>BMW</td>\n",
       "      <td>316</td>\n",
       "      <td>Diesel</td>\n",
       "      <td>Manual</td>\n",
       "      <td>Used</td>\n",
       "      <td>6800</td>\n",
       "      <td>116.0</td>\n",
       "      <td>2011</td>\n",
       "    </tr>\n",
       "    <tr>\n",
       "      <th>1</th>\n",
       "      <td>92800</td>\n",
       "      <td>Volkswagen</td>\n",
       "      <td>Golf</td>\n",
       "      <td>Gasoline</td>\n",
       "      <td>Manual</td>\n",
       "      <td>Used</td>\n",
       "      <td>6877</td>\n",
       "      <td>122.0</td>\n",
       "      <td>2011</td>\n",
       "    </tr>\n",
       "    <tr>\n",
       "      <th>2</th>\n",
       "      <td>149300</td>\n",
       "      <td>SEAT</td>\n",
       "      <td>Exeo</td>\n",
       "      <td>Gasoline</td>\n",
       "      <td>Manual</td>\n",
       "      <td>Used</td>\n",
       "      <td>6900</td>\n",
       "      <td>160.0</td>\n",
       "      <td>2011</td>\n",
       "    </tr>\n",
       "    <tr>\n",
       "      <th>3</th>\n",
       "      <td>96200</td>\n",
       "      <td>Renault</td>\n",
       "      <td>Megane</td>\n",
       "      <td>Gasoline</td>\n",
       "      <td>Manual</td>\n",
       "      <td>Used</td>\n",
       "      <td>6950</td>\n",
       "      <td>110.0</td>\n",
       "      <td>2011</td>\n",
       "    </tr>\n",
       "    <tr>\n",
       "      <th>4</th>\n",
       "      <td>156000</td>\n",
       "      <td>Peugeot</td>\n",
       "      <td>308</td>\n",
       "      <td>Gasoline</td>\n",
       "      <td>Manual</td>\n",
       "      <td>Used</td>\n",
       "      <td>6950</td>\n",
       "      <td>156.0</td>\n",
       "      <td>2011</td>\n",
       "    </tr>\n",
       "  </tbody>\n",
       "</table>\n",
       "</div>"
      ],
      "text/plain": [
       "   mileage        make   model      fuel    gear offerType  price     hp  year\n",
       "0   235000         BMW     316    Diesel  Manual      Used   6800  116.0  2011\n",
       "1    92800  Volkswagen    Golf  Gasoline  Manual      Used   6877  122.0  2011\n",
       "2   149300        SEAT    Exeo  Gasoline  Manual      Used   6900  160.0  2011\n",
       "3    96200     Renault  Megane  Gasoline  Manual      Used   6950  110.0  2011\n",
       "4   156000     Peugeot     308  Gasoline  Manual      Used   6950  156.0  2011"
      ]
     },
     "execution_count": 2,
     "metadata": {},
     "output_type": "execute_result"
    }
   ],
   "source": [
    "df = pd.read_csv(\"./autoscout24-germany-dataset.csv\")\n",
    "df.head()"
   ]
  },
  {
   "cell_type": "markdown",
   "id": "872f564d",
   "metadata": {},
   "source": [
    "The main objective of this notebook is to demonstrate different linear predictive models and predict the cost of cars based on data gathered from Germany."
   ]
  },
  {
   "cell_type": "markdown",
   "id": "8d8cd9f0",
   "metadata": {},
   "source": [
    "# Getting familiar with the data "
   ]
  },
  {
   "cell_type": "code",
   "execution_count": 3,
   "id": "b06a3efd",
   "metadata": {},
   "outputs": [
    {
     "data": {
      "text/plain": [
       "(46405, 9)"
      ]
     },
     "execution_count": 3,
     "metadata": {},
     "output_type": "execute_result"
    }
   ],
   "source": [
    "df.shape"
   ]
  },
  {
   "cell_type": "code",
   "execution_count": 4,
   "id": "1f35792e",
   "metadata": {},
   "outputs": [
    {
     "data": {
      "text/html": [
       "<div>\n",
       "<style scoped>\n",
       "    .dataframe tbody tr th:only-of-type {\n",
       "        vertical-align: middle;\n",
       "    }\n",
       "\n",
       "    .dataframe tbody tr th {\n",
       "        vertical-align: top;\n",
       "    }\n",
       "\n",
       "    .dataframe thead th {\n",
       "        text-align: right;\n",
       "    }\n",
       "</style>\n",
       "<table border=\"1\" class=\"dataframe\">\n",
       "  <thead>\n",
       "    <tr style=\"text-align: right;\">\n",
       "      <th></th>\n",
       "      <th>mileage</th>\n",
       "      <th>price</th>\n",
       "      <th>hp</th>\n",
       "      <th>year</th>\n",
       "    </tr>\n",
       "  </thead>\n",
       "  <tbody>\n",
       "    <tr>\n",
       "      <th>count</th>\n",
       "      <td>4.640500e+04</td>\n",
       "      <td>4.640500e+04</td>\n",
       "      <td>46376.000000</td>\n",
       "      <td>46405.000000</td>\n",
       "    </tr>\n",
       "    <tr>\n",
       "      <th>mean</th>\n",
       "      <td>7.117786e+04</td>\n",
       "      <td>1.657234e+04</td>\n",
       "      <td>132.990987</td>\n",
       "      <td>2016.012951</td>\n",
       "    </tr>\n",
       "    <tr>\n",
       "      <th>std</th>\n",
       "      <td>6.262531e+04</td>\n",
       "      <td>1.930470e+04</td>\n",
       "      <td>75.449284</td>\n",
       "      <td>3.155214</td>\n",
       "    </tr>\n",
       "    <tr>\n",
       "      <th>min</th>\n",
       "      <td>0.000000e+00</td>\n",
       "      <td>1.100000e+03</td>\n",
       "      <td>1.000000</td>\n",
       "      <td>2011.000000</td>\n",
       "    </tr>\n",
       "    <tr>\n",
       "      <th>25%</th>\n",
       "      <td>1.980000e+04</td>\n",
       "      <td>7.490000e+03</td>\n",
       "      <td>86.000000</td>\n",
       "      <td>2013.000000</td>\n",
       "    </tr>\n",
       "    <tr>\n",
       "      <th>50%</th>\n",
       "      <td>6.000000e+04</td>\n",
       "      <td>1.099900e+04</td>\n",
       "      <td>116.000000</td>\n",
       "      <td>2016.000000</td>\n",
       "    </tr>\n",
       "    <tr>\n",
       "      <th>75%</th>\n",
       "      <td>1.050000e+05</td>\n",
       "      <td>1.949000e+04</td>\n",
       "      <td>150.000000</td>\n",
       "      <td>2019.000000</td>\n",
       "    </tr>\n",
       "    <tr>\n",
       "      <th>max</th>\n",
       "      <td>1.111111e+06</td>\n",
       "      <td>1.199900e+06</td>\n",
       "      <td>850.000000</td>\n",
       "      <td>2021.000000</td>\n",
       "    </tr>\n",
       "  </tbody>\n",
       "</table>\n",
       "</div>"
      ],
      "text/plain": [
       "            mileage         price            hp          year\n",
       "count  4.640500e+04  4.640500e+04  46376.000000  46405.000000\n",
       "mean   7.117786e+04  1.657234e+04    132.990987   2016.012951\n",
       "std    6.262531e+04  1.930470e+04     75.449284      3.155214\n",
       "min    0.000000e+00  1.100000e+03      1.000000   2011.000000\n",
       "25%    1.980000e+04  7.490000e+03     86.000000   2013.000000\n",
       "50%    6.000000e+04  1.099900e+04    116.000000   2016.000000\n",
       "75%    1.050000e+05  1.949000e+04    150.000000   2019.000000\n",
       "max    1.111111e+06  1.199900e+06    850.000000   2021.000000"
      ]
     },
     "execution_count": 4,
     "metadata": {},
     "output_type": "execute_result"
    }
   ],
   "source": [
    "df.describe()"
   ]
  },
  {
   "cell_type": "markdown",
   "id": "544cb760",
   "metadata": {},
   "source": [
    "Now we see the unique values for some of our columns"
   ]
  },
  {
   "cell_type": "code",
   "execution_count": 5,
   "id": "49f7f4f8",
   "metadata": {},
   "outputs": [
    {
     "data": {
      "text/plain": [
       "array(['Diesel', 'Gasoline', 'Electric/Gasoline', '-/- (Fuel)',\n",
       "       'Electric', 'Electric/Diesel', 'CNG', 'LPG', 'Others', 'Hydrogen',\n",
       "       'Ethanol'], dtype=object)"
      ]
     },
     "execution_count": 5,
     "metadata": {},
     "output_type": "execute_result"
    }
   ],
   "source": [
    "df['fuel'].unique()"
   ]
  },
  {
   "cell_type": "code",
   "execution_count": 6,
   "id": "91ff5e4b",
   "metadata": {},
   "outputs": [
    {
     "data": {
      "text/plain": [
       "array(['Manual', 'Automatic', nan, 'Semi-automatic'], dtype=object)"
      ]
     },
     "execution_count": 6,
     "metadata": {},
     "output_type": "execute_result"
    }
   ],
   "source": [
    "df['gear'].unique()"
   ]
  },
  {
   "cell_type": "code",
   "execution_count": 7,
   "id": "e177045f",
   "metadata": {},
   "outputs": [
    {
     "name": "stdout",
     "output_type": "stream",
     "text": [
      "<class 'pandas.core.frame.DataFrame'>\n",
      "RangeIndex: 46405 entries, 0 to 46404\n",
      "Data columns (total 9 columns):\n",
      " #   Column     Non-Null Count  Dtype  \n",
      "---  ------     --------------  -----  \n",
      " 0   mileage    46405 non-null  int64  \n",
      " 1   make       46405 non-null  object \n",
      " 2   model      46262 non-null  object \n",
      " 3   fuel       46405 non-null  object \n",
      " 4   gear       46223 non-null  object \n",
      " 5   offerType  46405 non-null  object \n",
      " 6   price      46405 non-null  int64  \n",
      " 7   hp         46376 non-null  float64\n",
      " 8   year       46405 non-null  int64  \n",
      "dtypes: float64(1), int64(3), object(5)\n",
      "memory usage: 3.2+ MB\n"
     ]
    }
   ],
   "source": [
    "df.info()"
   ]
  },
  {
   "cell_type": "markdown",
   "id": "2ebc52d8",
   "metadata": {},
   "source": [
    "Thus there are some null values in the columns model, gear, and hp. Let's count how many are there."
   ]
  },
  {
   "cell_type": "markdown",
   "id": "cc5a0a40",
   "metadata": {},
   "source": [
    "# Data cleaning"
   ]
  },
  {
   "cell_type": "code",
   "execution_count": 8,
   "id": "21f1a07d",
   "metadata": {},
   "outputs": [
    {
     "data": {
      "text/plain": [
       "mileage        0\n",
       "make           0\n",
       "model        143\n",
       "fuel           0\n",
       "gear         182\n",
       "offerType      0\n",
       "price          0\n",
       "hp            29\n",
       "year           0\n",
       "dtype: int64"
      ]
     },
     "execution_count": 8,
     "metadata": {},
     "output_type": "execute_result"
    }
   ],
   "source": [
    "df.isna().sum()"
   ]
  },
  {
   "cell_type": "markdown",
   "id": "d6403187",
   "metadata": {},
   "source": [
    "Since the number of missing values is less than 1% of our total data, I presume it'll be okay if we drop these entries."
   ]
  },
  {
   "cell_type": "code",
   "execution_count": 9,
   "id": "07fcc133",
   "metadata": {},
   "outputs": [],
   "source": [
    "df.dropna(inplace = True)"
   ]
  },
  {
   "cell_type": "code",
   "execution_count": 10,
   "id": "94a160e5",
   "metadata": {},
   "outputs": [],
   "source": [
    "#dropping duplicate rows\n",
    "df.drop_duplicates(keep = 'first', inplace = True)"
   ]
  },
  {
   "cell_type": "code",
   "execution_count": 11,
   "id": "6ef88978",
   "metadata": {},
   "outputs": [
    {
     "data": {
      "text/plain": [
       "(43947, 9)"
      ]
     },
     "execution_count": 11,
     "metadata": {},
     "output_type": "execute_result"
    }
   ],
   "source": [
    "#now let's see the shape of our dataframe\n",
    "df.shape"
   ]
  },
  {
   "cell_type": "code",
   "execution_count": 12,
   "id": "bb3a4778",
   "metadata": {},
   "outputs": [
    {
     "data": {
      "text/html": [
       "<div>\n",
       "<style scoped>\n",
       "    .dataframe tbody tr th:only-of-type {\n",
       "        vertical-align: middle;\n",
       "    }\n",
       "\n",
       "    .dataframe tbody tr th {\n",
       "        vertical-align: top;\n",
       "    }\n",
       "\n",
       "    .dataframe thead th {\n",
       "        text-align: right;\n",
       "    }\n",
       "</style>\n",
       "<table border=\"1\" class=\"dataframe\">\n",
       "  <thead>\n",
       "    <tr style=\"text-align: right;\">\n",
       "      <th></th>\n",
       "      <th>mileage</th>\n",
       "      <th>price</th>\n",
       "      <th>hp</th>\n",
       "      <th>year</th>\n",
       "    </tr>\n",
       "  </thead>\n",
       "  <tbody>\n",
       "    <tr>\n",
       "      <th>count</th>\n",
       "      <td>4.394700e+04</td>\n",
       "      <td>4.394700e+04</td>\n",
       "      <td>43947.000000</td>\n",
       "      <td>43947.000000</td>\n",
       "    </tr>\n",
       "    <tr>\n",
       "      <th>mean</th>\n",
       "      <td>7.231258e+04</td>\n",
       "      <td>1.654656e+04</td>\n",
       "      <td>133.624571</td>\n",
       "      <td>2015.931349</td>\n",
       "    </tr>\n",
       "    <tr>\n",
       "      <th>std</th>\n",
       "      <td>6.217336e+04</td>\n",
       "      <td>1.944680e+04</td>\n",
       "      <td>75.049853</td>\n",
       "      <td>3.120073</td>\n",
       "    </tr>\n",
       "    <tr>\n",
       "      <th>min</th>\n",
       "      <td>0.000000e+00</td>\n",
       "      <td>1.100000e+03</td>\n",
       "      <td>1.000000</td>\n",
       "      <td>2011.000000</td>\n",
       "    </tr>\n",
       "    <tr>\n",
       "      <th>25%</th>\n",
       "      <td>2.150000e+04</td>\n",
       "      <td>7.490000e+03</td>\n",
       "      <td>86.000000</td>\n",
       "      <td>2013.000000</td>\n",
       "    </tr>\n",
       "    <tr>\n",
       "      <th>50%</th>\n",
       "      <td>6.130900e+04</td>\n",
       "      <td>1.099000e+04</td>\n",
       "      <td>116.000000</td>\n",
       "      <td>2016.000000</td>\n",
       "    </tr>\n",
       "    <tr>\n",
       "      <th>75%</th>\n",
       "      <td>1.060000e+05</td>\n",
       "      <td>1.949000e+04</td>\n",
       "      <td>150.000000</td>\n",
       "      <td>2019.000000</td>\n",
       "    </tr>\n",
       "    <tr>\n",
       "      <th>max</th>\n",
       "      <td>1.111111e+06</td>\n",
       "      <td>1.199900e+06</td>\n",
       "      <td>850.000000</td>\n",
       "      <td>2021.000000</td>\n",
       "    </tr>\n",
       "  </tbody>\n",
       "</table>\n",
       "</div>"
      ],
      "text/plain": [
       "            mileage         price            hp          year\n",
       "count  4.394700e+04  4.394700e+04  43947.000000  43947.000000\n",
       "mean   7.231258e+04  1.654656e+04    133.624571   2015.931349\n",
       "std    6.217336e+04  1.944680e+04     75.049853      3.120073\n",
       "min    0.000000e+00  1.100000e+03      1.000000   2011.000000\n",
       "25%    2.150000e+04  7.490000e+03     86.000000   2013.000000\n",
       "50%    6.130900e+04  1.099000e+04    116.000000   2016.000000\n",
       "75%    1.060000e+05  1.949000e+04    150.000000   2019.000000\n",
       "max    1.111111e+06  1.199900e+06    850.000000   2021.000000"
      ]
     },
     "execution_count": 12,
     "metadata": {},
     "output_type": "execute_result"
    }
   ],
   "source": [
    "df.describe()"
   ]
  },
  {
   "cell_type": "markdown",
   "id": "e9f22b3d",
   "metadata": {},
   "source": [
    "Adding an Age column"
   ]
  },
  {
   "cell_type": "code",
   "execution_count": 13,
   "id": "09acabb3",
   "metadata": {},
   "outputs": [],
   "source": [
    "from datetime import datetime"
   ]
  },
  {
   "cell_type": "code",
   "execution_count": 14,
   "id": "aecd6018",
   "metadata": {},
   "outputs": [],
   "source": [
    "df['age'] = datetime.now().year - df['year']"
   ]
  },
  {
   "cell_type": "code",
   "execution_count": 15,
   "id": "e61ff7c6",
   "metadata": {},
   "outputs": [],
   "source": [
    "df.drop('year',axis = 1, inplace = True)"
   ]
  },
  {
   "cell_type": "code",
   "execution_count": 16,
   "id": "534d74d4",
   "metadata": {},
   "outputs": [
    {
     "data": {
      "text/html": [
       "<div>\n",
       "<style scoped>\n",
       "    .dataframe tbody tr th:only-of-type {\n",
       "        vertical-align: middle;\n",
       "    }\n",
       "\n",
       "    .dataframe tbody tr th {\n",
       "        vertical-align: top;\n",
       "    }\n",
       "\n",
       "    .dataframe thead th {\n",
       "        text-align: right;\n",
       "    }\n",
       "</style>\n",
       "<table border=\"1\" class=\"dataframe\">\n",
       "  <thead>\n",
       "    <tr style=\"text-align: right;\">\n",
       "      <th></th>\n",
       "      <th>mileage</th>\n",
       "      <th>make</th>\n",
       "      <th>model</th>\n",
       "      <th>fuel</th>\n",
       "      <th>gear</th>\n",
       "      <th>offerType</th>\n",
       "      <th>price</th>\n",
       "      <th>hp</th>\n",
       "      <th>age</th>\n",
       "    </tr>\n",
       "  </thead>\n",
       "  <tbody>\n",
       "    <tr>\n",
       "      <th>0</th>\n",
       "      <td>235000</td>\n",
       "      <td>BMW</td>\n",
       "      <td>316</td>\n",
       "      <td>Diesel</td>\n",
       "      <td>Manual</td>\n",
       "      <td>Used</td>\n",
       "      <td>6800</td>\n",
       "      <td>116.0</td>\n",
       "      <td>10</td>\n",
       "    </tr>\n",
       "    <tr>\n",
       "      <th>1</th>\n",
       "      <td>92800</td>\n",
       "      <td>Volkswagen</td>\n",
       "      <td>Golf</td>\n",
       "      <td>Gasoline</td>\n",
       "      <td>Manual</td>\n",
       "      <td>Used</td>\n",
       "      <td>6877</td>\n",
       "      <td>122.0</td>\n",
       "      <td>10</td>\n",
       "    </tr>\n",
       "    <tr>\n",
       "      <th>2</th>\n",
       "      <td>149300</td>\n",
       "      <td>SEAT</td>\n",
       "      <td>Exeo</td>\n",
       "      <td>Gasoline</td>\n",
       "      <td>Manual</td>\n",
       "      <td>Used</td>\n",
       "      <td>6900</td>\n",
       "      <td>160.0</td>\n",
       "      <td>10</td>\n",
       "    </tr>\n",
       "    <tr>\n",
       "      <th>3</th>\n",
       "      <td>96200</td>\n",
       "      <td>Renault</td>\n",
       "      <td>Megane</td>\n",
       "      <td>Gasoline</td>\n",
       "      <td>Manual</td>\n",
       "      <td>Used</td>\n",
       "      <td>6950</td>\n",
       "      <td>110.0</td>\n",
       "      <td>10</td>\n",
       "    </tr>\n",
       "    <tr>\n",
       "      <th>4</th>\n",
       "      <td>156000</td>\n",
       "      <td>Peugeot</td>\n",
       "      <td>308</td>\n",
       "      <td>Gasoline</td>\n",
       "      <td>Manual</td>\n",
       "      <td>Used</td>\n",
       "      <td>6950</td>\n",
       "      <td>156.0</td>\n",
       "      <td>10</td>\n",
       "    </tr>\n",
       "  </tbody>\n",
       "</table>\n",
       "</div>"
      ],
      "text/plain": [
       "   mileage        make   model      fuel    gear offerType  price     hp  age\n",
       "0   235000         BMW     316    Diesel  Manual      Used   6800  116.0   10\n",
       "1    92800  Volkswagen    Golf  Gasoline  Manual      Used   6877  122.0   10\n",
       "2   149300        SEAT    Exeo  Gasoline  Manual      Used   6900  160.0   10\n",
       "3    96200     Renault  Megane  Gasoline  Manual      Used   6950  110.0   10\n",
       "4   156000     Peugeot     308  Gasoline  Manual      Used   6950  156.0   10"
      ]
     },
     "execution_count": 16,
     "metadata": {},
     "output_type": "execute_result"
    }
   ],
   "source": [
    "df.head()"
   ]
  },
  {
   "cell_type": "markdown",
   "id": "84fc8092",
   "metadata": {},
   "source": [
    "# Exploratory Data Analysis"
   ]
  },
  {
   "cell_type": "code",
   "execution_count": 17,
   "id": "663d3d2b",
   "metadata": {},
   "outputs": [
    {
     "data": {
      "text/plain": [
       "10990.0"
      ]
     },
     "execution_count": 17,
     "metadata": {},
     "output_type": "execute_result"
    }
   ],
   "source": [
    "M = df.price.median()\n",
    "M"
   ]
  },
  {
   "cell_type": "code",
   "execution_count": 18,
   "id": "26851d0f",
   "metadata": {},
   "outputs": [
    {
     "data": {
      "text/plain": [
       "16546.56379275036"
      ]
     },
     "execution_count": 18,
     "metadata": {},
     "output_type": "execute_result"
    }
   ],
   "source": [
    "m = df.price.mean()\n",
    "m"
   ]
  },
  {
   "cell_type": "code",
   "execution_count": 19,
   "id": "a44a9a89",
   "metadata": {},
   "outputs": [
    {
     "name": "stdout",
     "output_type": "stream",
     "text": [
      "Median = 10990.0\n",
      "Number of cars with values above the median\n",
      "21846\n",
      "Number of cars with values below the median\n",
      "21807\n",
      "--------------------------------------------\n",
      "Median = 16546.56379275036\n",
      "Number of cars with values above the mean\n",
      "13450\n",
      "Number of cars with values below the mean\n",
      "30497\n"
     ]
    }
   ],
   "source": [
    "below_M = df.query(\"price<10990\")\n",
    "no_below_M = below_M.value_counts().sum()\n",
    "\n",
    "above_M = df.query(\"price > 10990.1\")\n",
    "no_above_M = above_M.value_counts().sum()\n",
    "\n",
    "print(f'Median = {M}')\n",
    "print('Number of cars with values above the median')\n",
    "print(no_above_M)\n",
    "print('Number of cars with values below the median')\n",
    "print(no_below_M)\n",
    "print('--------------------------------------------')\n",
    "\n",
    "below_m = df.query(\"price<16546\")\n",
    "no_below_m = below_m.value_counts().sum()\n",
    "\n",
    "above_m = df.query(\"price > 16546.1\")\n",
    "no_above_m = above_m.value_counts().sum()\n",
    "\n",
    "print(f'Median = {m}')\n",
    "print('Number of cars with values above the mean')\n",
    "print(no_above_m)\n",
    "print('Number of cars with values below the mean')\n",
    "print(no_below_m)"
   ]
  },
  {
   "cell_type": "code",
   "execution_count": 20,
   "id": "6cada337",
   "metadata": {},
   "outputs": [
    {
     "data": {
      "text/plain": [
       "<AxesSubplot:xlabel='hp', ylabel='price'>"
      ]
     },
     "execution_count": 20,
     "metadata": {},
     "output_type": "execute_result"
    },
    {
     "data": {
      "image/png": "[encoded data removed]",
      "text/plain": [
       "<Figure size 432x288 with 1 Axes>"
      ]
     },
     "metadata": {
      "needs_background": "light"
     },
     "output_type": "display_data"
    }
   ],
   "source": [
    "sns.scatterplot(x=df['hp'], y=df['price'])"
   ]
  },
  {
   "cell_type": "code",
   "execution_count": 21,
   "id": "53551953",
   "metadata": {},
   "outputs": [],
   "source": [
    "#Changing the fuels\n",
    "df['fuel'] = df['fuel'].replace('Diesel', 0)\n",
    "df['fuel'] = df['fuel'].replace('Gasoline', 1)\n",
    "df['fuel'] = df['fuel'].replace(['Electric/Gasoline', 'Electric/Diesel', 'Electric'],  2)\n",
    "df['fuel'] = df['fuel'].replace(['CNG', 'LPG', 'Others', '-/- (Fuel)', 'Ethanol', 'Hydrogen'], 3)"
   ]
  },
  {
   "cell_type": "code",
   "execution_count": 22,
   "id": "557f6678",
   "metadata": {},
   "outputs": [
    {
     "data": {
      "text/plain": [
       "array([0, 1, 2, 3])"
      ]
     },
     "execution_count": 22,
     "metadata": {},
     "output_type": "execute_result"
    }
   ],
   "source": [
    "df.fuel.unique()"
   ]
  },
  {
   "cell_type": "markdown",
   "id": "4c1dfc8c",
   "metadata": {},
   "source": [
    "Correlation heatmap"
   ]
  },
  {
   "cell_type": "code",
   "execution_count": 23,
   "id": "c02c0604",
   "metadata": {},
   "outputs": [
    {
     "data": {
      "text/plain": [
       "<AxesSubplot:>"
      ]
     },
     "execution_count": 23,
     "metadata": {},
     "output_type": "execute_result"
    },
    {
     "data": {
      "image/png": "[encoded data removed]",
      "text/plain": [
       "<Figure size 1008x504 with 2 Axes>"
      ]
     },
     "metadata": {
      "needs_background": "light"
     },
     "output_type": "display_data"
    }
   ],
   "source": [
    "plt.figure(figsize=(14,7))\n",
    "sns.heatmap(df.corr(),annot=True, cmap='coolwarm')"
   ]
  },
  {
   "cell_type": "markdown",
   "id": "8b4c0e8b",
   "metadata": {},
   "source": [
    "We find the popular cars"
   ]
  },
  {
   "cell_type": "code",
   "execution_count": 24,
   "id": "1f48e896",
   "metadata": {},
   "outputs": [
    {
     "data": {
      "text/plain": [
       "(3300.0, 83468.84000000004)"
      ]
     },
     "execution_count": 24,
     "metadata": {},
     "output_type": "execute_result"
    }
   ],
   "source": [
    "min_price, max_price = df.price.quantile([0.01, 0.99])\n",
    "min_price, max_price"
   ]
  },
  {
   "cell_type": "code",
   "execution_count": 25,
   "id": "081ed75d",
   "metadata": {},
   "outputs": [
    {
     "name": "stdout",
     "output_type": "stream",
     "text": [
      "Total number of cars:\n",
      "43947\n",
      "---------------------\n",
      "Numers of cars that are abore $3.300,0 and below $99.999,0\n",
      "43044\n"
     ]
    }
   ],
   "source": [
    "pop_cars = df[(df.price<max_price) & (df.price>min_price)]\n",
    "print('Total number of cars:')\n",
    "print(df.shape[0])\n",
    "print('---------------------')\n",
    "print('Numers of cars that are abore $3.300,0 and below $99.999,0')\n",
    "print(pop_cars.shape[0])"
   ]
  },
  {
   "cell_type": "code",
   "execution_count": 26,
   "id": "0e42de54",
   "metadata": {},
   "outputs": [
    {
     "data": {
      "text/plain": [
       "(7.0, 259170.56000000006)"
      ]
     },
     "execution_count": 26,
     "metadata": {},
     "output_type": "execute_result"
    }
   ],
   "source": [
    "min_price, max_price = df.mileage.quantile([0.01, 0.99])\n",
    "min_price, max_price"
   ]
  },
  {
   "cell_type": "code",
   "execution_count": 27,
   "id": "fbcebf0a",
   "metadata": {},
   "outputs": [],
   "source": [
    "pop_cars = pop_cars[(pop_cars.mileage<max_price) & (pop_cars.mileage>min_price)]"
   ]
  },
  {
   "cell_type": "code",
   "execution_count": 28,
   "id": "35aa53f4",
   "metadata": {},
   "outputs": [
    {
     "data": {
      "text/plain": [
       "(60.0, 650.0)"
      ]
     },
     "execution_count": 28,
     "metadata": {},
     "output_type": "execute_result"
    }
   ],
   "source": [
    "min_price, max_price = df.hp.quantile([0.01, 0.999])\n",
    "min_price, max_price"
   ]
  },
  {
   "cell_type": "code",
   "execution_count": 29,
   "id": "f532deb2",
   "metadata": {},
   "outputs": [],
   "source": [
    "pop_cars = pop_cars[(pop_cars.hp<max_price) & (pop_cars.hp>min_price)]"
   ]
  },
  {
   "cell_type": "code",
   "execution_count": 30,
   "id": "cc7580eb",
   "metadata": {},
   "outputs": [],
   "source": [
    "pop_cars['fuel'] = pop_cars['fuel'].replace(0, 'Diesel')\n",
    "pop_cars['fuel'] = pop_cars['fuel'].replace(1, 'Gasoline')\n",
    "pop_cars['fuel'] = pop_cars['fuel'].replace(2, 'Electric')\n",
    "pop_cars['fuel'] = pop_cars['fuel'].replace(3, 'Others')"
   ]
  },
  {
   "cell_type": "code",
   "execution_count": 31,
   "id": "ade41239",
   "metadata": {},
   "outputs": [],
   "source": [
    "pop_cars = pop_cars.reset_index(drop=True)"
   ]
  },
  {
   "cell_type": "markdown",
   "id": "9846a927",
   "metadata": {},
   "source": [
    "# One hot encoding and K-Folds"
   ]
  },
  {
   "cell_type": "code",
   "execution_count": 32,
   "id": "ccfc4724",
   "metadata": {},
   "outputs": [
    {
     "data": {
      "text/html": [
       "<div>\n",
       "<style scoped>\n",
       "    .dataframe tbody tr th:only-of-type {\n",
       "        vertical-align: middle;\n",
       "    }\n",
       "\n",
       "    .dataframe tbody tr th {\n",
       "        vertical-align: top;\n",
       "    }\n",
       "\n",
       "    .dataframe thead th {\n",
       "        text-align: right;\n",
       "    }\n",
       "</style>\n",
       "<table border=\"1\" class=\"dataframe\">\n",
       "  <thead>\n",
       "    <tr style=\"text-align: right;\">\n",
       "      <th></th>\n",
       "      <th>mileage</th>\n",
       "      <th>fuel</th>\n",
       "      <th>gear</th>\n",
       "      <th>offerType</th>\n",
       "      <th>price</th>\n",
       "      <th>hp</th>\n",
       "      <th>age</th>\n",
       "    </tr>\n",
       "  </thead>\n",
       "  <tbody>\n",
       "    <tr>\n",
       "      <th>0</th>\n",
       "      <td>235000</td>\n",
       "      <td>Diesel</td>\n",
       "      <td>Manual</td>\n",
       "      <td>Used</td>\n",
       "      <td>6800</td>\n",
       "      <td>116.0</td>\n",
       "      <td>10</td>\n",
       "    </tr>\n",
       "    <tr>\n",
       "      <th>1</th>\n",
       "      <td>92800</td>\n",
       "      <td>Gasoline</td>\n",
       "      <td>Manual</td>\n",
       "      <td>Used</td>\n",
       "      <td>6877</td>\n",
       "      <td>122.0</td>\n",
       "      <td>10</td>\n",
       "    </tr>\n",
       "    <tr>\n",
       "      <th>2</th>\n",
       "      <td>149300</td>\n",
       "      <td>Gasoline</td>\n",
       "      <td>Manual</td>\n",
       "      <td>Used</td>\n",
       "      <td>6900</td>\n",
       "      <td>160.0</td>\n",
       "      <td>10</td>\n",
       "    </tr>\n",
       "    <tr>\n",
       "      <th>3</th>\n",
       "      <td>96200</td>\n",
       "      <td>Gasoline</td>\n",
       "      <td>Manual</td>\n",
       "      <td>Used</td>\n",
       "      <td>6950</td>\n",
       "      <td>110.0</td>\n",
       "      <td>10</td>\n",
       "    </tr>\n",
       "    <tr>\n",
       "      <th>4</th>\n",
       "      <td>156000</td>\n",
       "      <td>Gasoline</td>\n",
       "      <td>Manual</td>\n",
       "      <td>Used</td>\n",
       "      <td>6950</td>\n",
       "      <td>156.0</td>\n",
       "      <td>10</td>\n",
       "    </tr>\n",
       "  </tbody>\n",
       "</table>\n",
       "</div>"
      ],
      "text/plain": [
       "   mileage      fuel    gear offerType  price     hp  age\n",
       "0   235000    Diesel  Manual      Used   6800  116.0   10\n",
       "1    92800  Gasoline  Manual      Used   6877  122.0   10\n",
       "2   149300  Gasoline  Manual      Used   6900  160.0   10\n",
       "3    96200  Gasoline  Manual      Used   6950  110.0   10\n",
       "4   156000  Gasoline  Manual      Used   6950  156.0   10"
      ]
     },
     "execution_count": 32,
     "metadata": {},
     "output_type": "execute_result"
    }
   ],
   "source": [
    "pop_cars = pop_cars.drop(columns=['make', 'model'], axis=1)\n",
    "pop_cars.head()"
   ]
  },
  {
   "cell_type": "code",
   "execution_count": 33,
   "id": "dbeee3d4",
   "metadata": {},
   "outputs": [
    {
     "data": {
      "text/plain": [
       "object     3\n",
       "int64      3\n",
       "float64    1\n",
       "dtype: int64"
      ]
     },
     "execution_count": 33,
     "metadata": {},
     "output_type": "execute_result"
    }
   ],
   "source": [
    "pop_cars.dtypes.value_counts()"
   ]
  },
  {
   "cell_type": "code",
   "execution_count": 34,
   "id": "b9246e35",
   "metadata": {},
   "outputs": [
    {
     "data": {
      "text/plain": [
       "Index(['fuel', 'gear', 'offerType'], dtype='object')"
      ]
     },
     "execution_count": 34,
     "metadata": {},
     "output_type": "execute_result"
    }
   ],
   "source": [
    "mask = pop_cars.dtypes == np.object\n",
    "categorical = pop_cars.columns[mask]\n",
    "categorical"
   ]
  },
  {
   "cell_type": "code",
   "execution_count": 35,
   "id": "e458f53d",
   "metadata": {},
   "outputs": [
    {
     "data": {
      "text/plain": [
       "offerType    5\n",
       "fuel         4\n",
       "gear         3\n",
       "dtype: int64"
      ]
     },
     "execution_count": 35,
     "metadata": {},
     "output_type": "execute_result"
    }
   ],
   "source": [
    "num_ohc_cols = (pop_cars[categorical].apply(lambda x: x.nunique()).sort_values(ascending=False))\n",
    "num_ohc_cols"
   ]
  },
  {
   "cell_type": "code",
   "execution_count": 36,
   "id": "03ad73ca",
   "metadata": {},
   "outputs": [],
   "source": [
    "from sklearn.preprocessing import OneHotEncoder, LabelEncoder\n",
    "\n",
    "data_ohc = pop_cars.copy()\n",
    "\n",
    "ohc = OneHotEncoder()\n",
    "\n",
    "for col in num_ohc_cols.index:\n",
    "  #this is a sparse array\n",
    "  new_dat = ohc.fit_transform(data_ohc[[col]])\n",
    "  #drop original column from original DF\n",
    "  data_ohc = data_ohc.drop(col, axis=1)\n",
    "  #get unique names of columns\n",
    "  cats = ohc.categories_\n",
    "  #create a column for each OHE column by value\n",
    "  new_cols = ['_'.join([col,cat]) for cat in cats[0]]\n",
    "  #create the new Dataset\n",
    "  new_df = pd.DataFrame(new_dat.toarray(), columns=new_cols)\n",
    "  #append new data to df\n",
    "  data_ohc=pd.concat([data_ohc, new_df], axis=1)\n",
    "\n",
    "y_col = 'price'\n",
    "\n",
    "feature_cols = [x for x in data_ohc.columns if x != y_col]\n",
    "\n",
    "X = data_ohc[feature_cols]\n",
    "y = data_ohc[y_col]"
   ]
  },
  {
   "cell_type": "code",
   "execution_count": 37,
   "id": "e779ed22",
   "metadata": {},
   "outputs": [
    {
     "data": {
      "text/html": [
       "<div>\n",
       "<style scoped>\n",
       "    .dataframe tbody tr th:only-of-type {\n",
       "        vertical-align: middle;\n",
       "    }\n",
       "\n",
       "    .dataframe tbody tr th {\n",
       "        vertical-align: top;\n",
       "    }\n",
       "\n",
       "    .dataframe thead th {\n",
       "        text-align: right;\n",
       "    }\n",
       "</style>\n",
       "<table border=\"1\" class=\"dataframe\">\n",
       "  <thead>\n",
       "    <tr style=\"text-align: right;\">\n",
       "      <th></th>\n",
       "      <th>mileage</th>\n",
       "      <th>hp</th>\n",
       "      <th>age</th>\n",
       "      <th>offerType_Demonstration</th>\n",
       "      <th>offerType_Employee's car</th>\n",
       "      <th>offerType_New</th>\n",
       "      <th>offerType_Pre-registered</th>\n",
       "      <th>offerType_Used</th>\n",
       "      <th>fuel_Diesel</th>\n",
       "      <th>fuel_Electric</th>\n",
       "      <th>fuel_Gasoline</th>\n",
       "      <th>fuel_Others</th>\n",
       "      <th>gear_Automatic</th>\n",
       "      <th>gear_Manual</th>\n",
       "      <th>gear_Semi-automatic</th>\n",
       "    </tr>\n",
       "  </thead>\n",
       "  <tbody>\n",
       "    <tr>\n",
       "      <th>0</th>\n",
       "      <td>235000</td>\n",
       "      <td>116.0</td>\n",
       "      <td>10</td>\n",
       "      <td>0.0</td>\n",
       "      <td>0.0</td>\n",
       "      <td>0.0</td>\n",
       "      <td>0.0</td>\n",
       "      <td>1.0</td>\n",
       "      <td>1.0</td>\n",
       "      <td>0.0</td>\n",
       "      <td>0.0</td>\n",
       "      <td>0.0</td>\n",
       "      <td>0.0</td>\n",
       "      <td>1.0</td>\n",
       "      <td>0.0</td>\n",
       "    </tr>\n",
       "    <tr>\n",
       "      <th>1</th>\n",
       "      <td>92800</td>\n",
       "      <td>122.0</td>\n",
       "      <td>10</td>\n",
       "      <td>0.0</td>\n",
       "      <td>0.0</td>\n",
       "      <td>0.0</td>\n",
       "      <td>0.0</td>\n",
       "      <td>1.0</td>\n",
       "      <td>0.0</td>\n",
       "      <td>0.0</td>\n",
       "      <td>1.0</td>\n",
       "      <td>0.0</td>\n",
       "      <td>0.0</td>\n",
       "      <td>1.0</td>\n",
       "      <td>0.0</td>\n",
       "    </tr>\n",
       "    <tr>\n",
       "      <th>2</th>\n",
       "      <td>149300</td>\n",
       "      <td>160.0</td>\n",
       "      <td>10</td>\n",
       "      <td>0.0</td>\n",
       "      <td>0.0</td>\n",
       "      <td>0.0</td>\n",
       "      <td>0.0</td>\n",
       "      <td>1.0</td>\n",
       "      <td>0.0</td>\n",
       "      <td>0.0</td>\n",
       "      <td>1.0</td>\n",
       "      <td>0.0</td>\n",
       "      <td>0.0</td>\n",
       "      <td>1.0</td>\n",
       "      <td>0.0</td>\n",
       "    </tr>\n",
       "    <tr>\n",
       "      <th>3</th>\n",
       "      <td>96200</td>\n",
       "      <td>110.0</td>\n",
       "      <td>10</td>\n",
       "      <td>0.0</td>\n",
       "      <td>0.0</td>\n",
       "      <td>0.0</td>\n",
       "      <td>0.0</td>\n",
       "      <td>1.0</td>\n",
       "      <td>0.0</td>\n",
       "      <td>0.0</td>\n",
       "      <td>1.0</td>\n",
       "      <td>0.0</td>\n",
       "      <td>0.0</td>\n",
       "      <td>1.0</td>\n",
       "      <td>0.0</td>\n",
       "    </tr>\n",
       "    <tr>\n",
       "      <th>4</th>\n",
       "      <td>156000</td>\n",
       "      <td>156.0</td>\n",
       "      <td>10</td>\n",
       "      <td>0.0</td>\n",
       "      <td>0.0</td>\n",
       "      <td>0.0</td>\n",
       "      <td>0.0</td>\n",
       "      <td>1.0</td>\n",
       "      <td>0.0</td>\n",
       "      <td>0.0</td>\n",
       "      <td>1.0</td>\n",
       "      <td>0.0</td>\n",
       "      <td>0.0</td>\n",
       "      <td>1.0</td>\n",
       "      <td>0.0</td>\n",
       "    </tr>\n",
       "  </tbody>\n",
       "</table>\n",
       "</div>"
      ],
      "text/plain": [
       "   mileage     hp  age  offerType_Demonstration  offerType_Employee's car  \\\n",
       "0   235000  116.0   10                      0.0                       0.0   \n",
       "1    92800  122.0   10                      0.0                       0.0   \n",
       "2   149300  160.0   10                      0.0                       0.0   \n",
       "3    96200  110.0   10                      0.0                       0.0   \n",
       "4   156000  156.0   10                      0.0                       0.0   \n",
       "\n",
       "   offerType_New  offerType_Pre-registered  offerType_Used  fuel_Diesel  \\\n",
       "0            0.0                       0.0             1.0          1.0   \n",
       "1            0.0                       0.0             1.0          0.0   \n",
       "2            0.0                       0.0             1.0          0.0   \n",
       "3            0.0                       0.0             1.0          0.0   \n",
       "4            0.0                       0.0             1.0          0.0   \n",
       "\n",
       "   fuel_Electric  fuel_Gasoline  fuel_Others  gear_Automatic  gear_Manual  \\\n",
       "0            0.0            0.0          0.0             0.0          1.0   \n",
       "1            0.0            1.0          0.0             0.0          1.0   \n",
       "2            0.0            1.0          0.0             0.0          1.0   \n",
       "3            0.0            1.0          0.0             0.0          1.0   \n",
       "4            0.0            1.0          0.0             0.0          1.0   \n",
       "\n",
       "   gear_Semi-automatic  \n",
       "0                  0.0  \n",
       "1                  0.0  \n",
       "2                  0.0  \n",
       "3                  0.0  \n",
       "4                  0.0  "
      ]
     },
     "execution_count": 37,
     "metadata": {},
     "output_type": "execute_result"
    }
   ],
   "source": [
    "X.head()"
   ]
  },
  {
   "cell_type": "code",
   "execution_count": 38,
   "id": "42d669ed",
   "metadata": {},
   "outputs": [
    {
     "data": {
      "text/plain": [
       "<generator object _BaseKFold.split at 0x7fa605022660>"
      ]
     },
     "execution_count": 38,
     "metadata": {},
     "output_type": "execute_result"
    }
   ],
   "source": [
    "from sklearn.model_selection import KFold\n",
    "\n",
    "kf = KFold(shuffle=True, random_state=72018, n_splits=3)\n",
    "\n",
    "kf.split(X)"
   ]
  },
  {
   "cell_type": "markdown",
   "id": "b05c9ffc",
   "metadata": {},
   "source": [
    "This creates a Tuple, for 3 different scenarios(n_plits), that is: train_index, test_index"
   ]
  },
  {
   "cell_type": "code",
   "execution_count": 39,
   "id": "6d635fe6",
   "metadata": {},
   "outputs": [
    {
     "name": "stdout",
     "output_type": "stream",
     "text": [
      "Train index: [ 0  2  4 10 11 12 13 16 19 20] 26924\n",
      "Test index: [ 1  3  5  6  7  8  9 14 15 17] 13463\n",
      "\n",
      "Train index: [0 1 2 3 4 5 6 7 8 9] 26925\n",
      "Test index: [11 12 13 16 19 20 23 26 32 37] 13462\n",
      "\n",
      "Train index: [ 1  3  5  6  7  8  9 11 12 13] 26925\n",
      "Test index: [ 0  2  4 10 24 29 33 34 43 45] 13462\n",
      "\n"
     ]
    }
   ],
   "source": [
    "for train_index, test_index in kf.split(X):\n",
    "  print(\"Train index:\", train_index[:10], len(train_index))\n",
    "  print(\"Test index:\", test_index[:10], len(test_index))\n",
    "  print('')"
   ]
  },
  {
   "cell_type": "markdown",
   "id": "7be5aa18",
   "metadata": {},
   "source": [
    "# Modeling"
   ]
  },
  {
   "cell_type": "markdown",
   "id": "25854ff2",
   "metadata": {},
   "source": [
    "Linear regression without regularization"
   ]
  },
  {
   "cell_type": "code",
   "execution_count": 40,
   "id": "e16b51f2",
   "metadata": {},
   "outputs": [
    {
     "data": {
      "text/plain": [
       "[0.8287930876292234, 0.8297633896297357, 0.8390539858927717]"
      ]
     },
     "execution_count": 40,
     "metadata": {},
     "output_type": "execute_result"
    }
   ],
   "source": [
    "from sklearn.linear_model import LinearRegression\n",
    "from sklearn.metrics import r2_score, mean_squared_error\n",
    "\n",
    "scores = []\n",
    "lr = LinearRegression()\n",
    "\n",
    "for train_index, test_index in kf.split(X):\n",
    "  X_train, X_test, y_train, y_test = (X.iloc[train_index, :], X.iloc[test_index, :], y[train_index], y[test_index])\n",
    "  \n",
    "  lr.fit(X_train, y_train)\n",
    "\n",
    "  y_pred = lr.predict(X_test)\n",
    "\n",
    "  score = r2_score(y_test.values, y_pred)\n",
    "\n",
    "  scores.append(score)\n",
    "\n",
    "scores"
   ]
  },
  {
   "cell_type": "markdown",
   "id": "ba81dda5",
   "metadata": {},
   "source": [
    "Linear regression with Regularization"
   ]
  },
  {
   "cell_type": "code",
   "execution_count": 41,
   "id": "b840bc27",
   "metadata": {},
   "outputs": [
    {
     "data": {
      "text/plain": [
       "[0.8287665996258867, 0.829763389629736, 0.8390557075678731]"
      ]
     },
     "execution_count": 41,
     "metadata": {},
     "output_type": "execute_result"
    }
   ],
   "source": [
    "from sklearn.preprocessing import StandardScaler\n",
    "\n",
    "scores = []\n",
    "lr = LinearRegression()\n",
    "s = StandardScaler()\n",
    "\n",
    "for train_index, test_index in kf.split(X):\n",
    "  X_train, X_test, y_train, y_test = (X.iloc[train_index, :], X.iloc[test_index, :], y[train_index], y[test_index])\n",
    "  \n",
    "  X_train_s = s.fit_transform(X_train)\n",
    "  \n",
    "  lr.fit(X_train_s, y_train)\n",
    "\n",
    "  X_test_s = s.transform(X_test)\n",
    "\n",
    "  y_pred = lr.predict(X_test_s)\n",
    "\n",
    "  score = r2_score(y_test.values, y_pred)\n",
    "\n",
    "  scores.append(score)\n",
    "\n",
    "scores"
   ]
  },
  {
   "cell_type": "markdown",
   "id": "e7d13283",
   "metadata": {},
   "source": [
    "Linear Regression with Regu, Pipeline com Cross Val Predict"
   ]
  },
  {
   "cell_type": "code",
   "execution_count": 44,
   "id": "3973a09f",
   "metadata": {},
   "outputs": [
    {
     "data": {
      "text/plain": [
       "array([  337.54394193,  7509.40035959,  6646.10113076, ...,\n",
       "       30315.43070237, 16273.01217139, 19866.976231  ])"
      ]
     },
     "execution_count": 44,
     "metadata": {},
     "output_type": "execute_result"
    }
   ],
   "source": [
    "# doing what we did above with Pipeline\n",
    "from sklearn.pipeline import Pipeline\n",
    "\n",
    "estimator = Pipeline([('scaler', s), ('linear_reg', lr)])\n",
    "\n",
    "estimator.fit(X_train, y_train)\n",
    "\n",
    "estimator.predict(X_test)"
   ]
  },
  {
   "cell_type": "code",
   "execution_count": 45,
   "id": "def9d223",
   "metadata": {},
   "outputs": [
    {
     "data": {
      "text/plain": [
       "KFold(n_splits=3, random_state=72018, shuffle=True)"
      ]
     },
     "execution_count": 45,
     "metadata": {},
     "output_type": "execute_result"
    }
   ],
   "source": [
    "kf"
   ]
  },
  {
   "cell_type": "code",
   "execution_count": 46,
   "id": "03de3b6b",
   "metadata": {},
   "outputs": [
    {
     "name": "stdout",
     "output_type": "stream",
     "text": [
      "[Parallel(n_jobs=1)]: Using backend SequentialBackend with 1 concurrent workers.\n",
      "[Parallel(n_jobs=1)]: Done   1 out of   1 | elapsed:    0.0s remaining:    0.0s\n",
      "[Parallel(n_jobs=1)]: Done   2 out of   2 | elapsed:    0.1s remaining:    0.0s\n",
      "[Parallel(n_jobs=1)]: Done   3 out of   3 | elapsed:    0.1s remaining:    0.0s\n",
      "[Parallel(n_jobs=1)]: Done   3 out of   3 | elapsed:    0.1s finished\n"
     ]
    }
   ],
   "source": [
    "from sklearn.model_selection import cross_val_predict\n",
    "\n",
    "predictions = cross_val_predict(estimator, X, y, cv=kf, verbose=100)"
   ]
  },
  {
   "cell_type": "code",
   "execution_count": 47,
   "id": "03566a76",
   "metadata": {},
   "outputs": [
    {
     "data": {
      "text/plain": [
       "40387"
      ]
     },
     "execution_count": 47,
     "metadata": {},
     "output_type": "execute_result"
    }
   ],
   "source": [
    "len(predictions)"
   ]
  },
  {
   "cell_type": "code",
   "execution_count": 48,
   "id": "76d252aa",
   "metadata": {},
   "outputs": [
    {
     "data": {
      "text/plain": [
       "0.8326247491666151"
      ]
     },
     "execution_count": 48,
     "metadata": {},
     "output_type": "execute_result"
    }
   ],
   "source": [
    "r2_score(y, predictions)"
   ]
  },
  {
   "cell_type": "code",
   "execution_count": 49,
   "id": "3f4e4c2a",
   "metadata": {},
   "outputs": [
    {
     "data": {
      "text/plain": [
       "0.832528565607832"
      ]
     },
     "execution_count": 49,
     "metadata": {},
     "output_type": "execute_result"
    }
   ],
   "source": [
    "np.mean(scores)"
   ]
  },
  {
   "cell_type": "markdown",
   "id": "ee4ec2d0",
   "metadata": {},
   "source": [
    "We can see that this is almost the same. Linear Regression doestn change much with Regularization"
   ]
  },
  {
   "cell_type": "markdown",
   "id": "3cef704a",
   "metadata": {},
   "source": [
    "# Linear Regression with Polynomial Regularization"
   ]
  },
  {
   "cell_type": "code",
   "execution_count": 50,
   "id": "cca506e5",
   "metadata": {},
   "outputs": [
    {
     "name": "stdout",
     "output_type": "stream",
     "text": [
      "[Parallel(n_jobs=1)]: Using backend SequentialBackend with 1 concurrent workers.\n",
      "[Parallel(n_jobs=1)]: Done   1 out of   1 | elapsed:    0.4s remaining:    0.0s\n",
      "[Parallel(n_jobs=1)]: Done   2 out of   2 | elapsed:    0.8s remaining:    0.0s\n",
      "[Parallel(n_jobs=1)]: Done   3 out of   3 | elapsed:    1.3s remaining:    0.0s\n",
      "[Parallel(n_jobs=1)]: Done   3 out of   3 | elapsed:    1.3s finished\n",
      "[Parallel(n_jobs=1)]: Using backend SequentialBackend with 1 concurrent workers.\n",
      "[Parallel(n_jobs=1)]: Done   1 out of   1 | elapsed:    2.1s remaining:    0.0s\n",
      "[Parallel(n_jobs=1)]: Done   2 out of   2 | elapsed:    4.3s remaining:    0.0s\n",
      "[Parallel(n_jobs=1)]: Done   3 out of   3 | elapsed:    6.9s remaining:    0.0s\n",
      "[Parallel(n_jobs=1)]: Done   3 out of   3 | elapsed:    6.9s finished\n",
      "[Parallel(n_jobs=1)]: Using backend SequentialBackend with 1 concurrent workers.\n",
      "[Parallel(n_jobs=1)]: Done   1 out of   1 | elapsed:  1.1min remaining:    0.0s\n",
      "[Parallel(n_jobs=1)]: Done   2 out of   2 | elapsed:  2.3min remaining:    0.0s\n",
      "[Parallel(n_jobs=1)]: Done   3 out of   3 | elapsed:  3.4min remaining:    0.0s\n",
      "[Parallel(n_jobs=1)]: Done   3 out of   3 | elapsed:  3.4min finished\n"
     ]
    }
   ],
   "source": [
    "from sklearn.preprocessing import PolynomialFeatures\n",
    "from sklearn.model_selection import KFold\n",
    "\n",
    "polis = [2, 3, 4]\n",
    "\n",
    "lr1 = LinearRegression()\n",
    "\n",
    "scores = []\n",
    "\n",
    "for poli in polis:\n",
    "  pf = PolynomialFeatures(poli)\n",
    "\n",
    "  estimator = Pipeline([('make_higher_degree', pf), ('linear_reg', lr1)])\n",
    "\n",
    "  predictions = cross_val_predict(estimator, X, y, cv=kf, verbose=100)\n",
    "\n",
    "  score = r2_score(y, predictions)\n",
    "\n",
    "  scores.append(score)"
   ]
  },
  {
   "cell_type": "code",
   "execution_count": 51,
   "id": "e7a39eb4",
   "metadata": {},
   "outputs": [
    {
     "data": {
      "text/plain": [
       "[(2, 0.8834636269383815), (3, 0.816677589576142), (4, -1026.6737588070525)]"
      ]
     },
     "execution_count": 51,
     "metadata": {},
     "output_type": "execute_result"
    }
   ],
   "source": [
    "list(zip(polis, scores))"
   ]
  }
 ],
 "metadata": {
  "kernelspec": {
   "display_name": "Python 3",
   "language": "python",
   "name": "python3"
  },
  "language_info": {
   "codemirror_mode": {
    "name": "ipython",
    "version": 3
   },
   "file_extension": ".py",
   "mimetype": "text/x-python",
   "name": "python",
   "nbconvert_exporter": "python",
   "pygments_lexer": "ipython3",
   "version": "3.8.5"
  }
 },
 "nbformat": 4,
 "nbformat_minor": 5
}
